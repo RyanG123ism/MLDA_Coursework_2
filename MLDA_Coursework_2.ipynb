{
  "nbformat": 4,
  "nbformat_minor": 0,
  "metadata": {
    "colab": {
      "provenance": [],
      "authorship_tag": "ABX9TyMoq5PVJcOW6cIYMCwDcOan",
      "include_colab_link": true
    },
    "kernelspec": {
      "name": "python3",
      "display_name": "Python 3"
    },
    "language_info": {
      "name": "python"
    }
  },
  "cells": [
    {
      "cell_type": "markdown",
      "metadata": {
        "id": "view-in-github",
        "colab_type": "text"
      },
      "source": [
        "<a href=\"https://colab.research.google.com/github/RyanG123ism/MLDA_Coursework_2/blob/main/MLDA_Coursework_2.ipynb\" target=\"_parent\"><img src=\"https://colab.research.google.com/assets/colab-badge.svg\" alt=\"Open In Colab\"/></a>"
      ]
    },
    {
      "cell_type": "markdown",
      "source": [
        "#**MLDA - Coursework - League of Legends Data Set**\n",
        "\n",
        "**Data Set Description:** League of Legends competitive matches between 2015-2017. The matches include the NALCS, EULCS, LCK, LMS, and CBLoL leagues as well as the World Championship and Mid-Season Invitational tournaments.\n",
        "\n",
        "This data analysis will make use of the dataset above to perform deep learning techniques to help predict a teams chance of victory based on their champion selection"
      ],
      "metadata": {
        "id": "9YkbqoO9fuIQ"
      }
    },
    {
      "cell_type": "markdown",
      "source": [
        "#Required Imports"
      ],
      "metadata": {
        "id": "QUhmksF3ypoH"
      }
    },
    {
      "cell_type": "code",
      "source": [
        "#required imports\n",
        "import kagglehub\n",
        "import pandas as pd\n",
        "import os\n",
        "\n",
        "#visualisation\n",
        "import matplotlib.pyplot as plt\n",
        "import seaborn as sns\n",
        "\n",
        "#tensorflow\n",
        "import tensorflow as tf\n",
        "from tensorflow.keras.layers import Embedding\n",
        "from tensorflow.keras.layers import Lambda\n",
        "import tensorflow.keras.backend as K\n",
        "from tensorflow.keras.layers import Concatenate\n",
        "from tensorflow.keras.models import Model\n",
        "from tensorflow.keras.layers import Dense, Input\n",
        "from tensorflow.keras.optimizers import Adam\n",
        "from tensorflow.keras.layers import Dropout\n",
        "from tensorflow.keras.regularizers import l2\n",
        "\n",
        "#sklearn\n",
        "from sklearn.model_selection import train_test_split\n",
        "from sklearn.preprocessing import MinMaxScaler"
      ],
      "metadata": {
        "id": "zRT1dJztyotP"
      },
      "execution_count": 1,
      "outputs": []
    },
    {
      "cell_type": "markdown",
      "source": [
        "#Reading the Data"
      ],
      "metadata": {
        "id": "MBiiFhhERlZP"
      }
    },
    {
      "cell_type": "markdown",
      "source": [
        "First the Dataset must be pulled from the corresponding kaggle directory and parsed for the correct 'LeagueofLegends' cvs file."
      ],
      "metadata": {
        "id": "BAtv9JjCiUvF"
      }
    },
    {
      "cell_type": "code",
      "execution_count": 2,
      "metadata": {
        "id": "L6TBgNjj8VNu"
      },
      "outputs": [],
      "source": [
        "#Download latest version\n",
        "path = kagglehub.dataset_download(\"chuckephron/leagueoflegends\")\n",
        "\n",
        "\n",
        "#find the appropriate csv file in directory\n",
        "for filename in os.listdir(path):\n",
        "    if filename == \"LeagueofLegends.csv\":\n",
        "        csv_file_path = os.path.join(path, filename)\n",
        "        break #stop after file is found\n",
        "\n",
        "#setting the layout options for the output of the dataframe so that the data is more readable.\n",
        "pd.set_option('display.max_rows', 100)\n",
        "pd.set_option('display.max_columns', None)\n",
        "pd.set_option('display.width', 200)\n",
        "\n",
        "#reading file into dataframe\n",
        "df = pd.read_csv(csv_file_path)"
      ]
    },
    {
      "cell_type": "markdown",
      "source": [
        "#Understanding the Data\n",
        "\n",
        "Printing some generic data regarding the dataset to further increase our understanding of the data. Most of the columns are of 'Object' type, which means not much can be said about the type of data upon first glance and through simple techniques such as '.describe'"
      ],
      "metadata": {
        "id": "cXB-CwLZVVzH"
      }
    },
    {
      "cell_type": "code",
      "source": [
        "#The shape of the dataset\n",
        "print(\"\")\n",
        "print(\"-------------------------SHAPE--------------------------\")\n",
        "print(df.shape)\n",
        "print(\"\")\n",
        "print(\"--------------------------HEAD-------------------------\")\n",
        "#Listing the first 5 rows within the dataset\n",
        "print(df.head())\n",
        "print(\"\")\n",
        "print(\"--------------------------INFO-------------------------\")\n",
        "#information about the dataset\n",
        "print(df.info())\n",
        "print(\"\")\n",
        "print(\"-------------------------DESCRIBE------------------------\")\n",
        "#general statistics on the integer type columns\n",
        "print(df.describe())"
      ],
      "metadata": {
        "colab": {
          "base_uri": "https://localhost:8080/"
        },
        "id": "usAhFm0CTdnQ",
        "outputId": "3c0d7089-de30-477d-8da4-afe8ed8e63ed"
      },
      "execution_count": 3,
      "outputs": [
        {
          "output_type": "stream",
          "name": "stdout",
          "text": [
            "\n",
            "-------------------------SHAPE--------------------------\n",
            "(7620, 57)\n",
            "\n",
            "--------------------------HEAD-------------------------\n",
            "  League  Year  Season    Type blueTeamTag  bResult  rResult redTeamTag  gamelength                                           golddiff                                           goldblue  \\\n",
            "0  NALCS  2015  Spring  Season         TSM        1        0         C9          40  [0, 0, -14, -65, -268, -431, -488, -789, -494,...  [2415, 2415, 2711, 3887, 5068, 6171, 7412, 866...   \n",
            "1  NALCS  2015  Spring  Season         CST        0        1        DIG          38  [0, 0, -26, -18, 147, 237, -152, 18, 88, -242,...  [2415, 2415, 2705, 4108, 5511, 6797, 7637, 895...   \n",
            "2  NALCS  2015  Spring  Season         WFX        1        0         GV          40  [0, 0, 10, -60, 34, 37, 589, 1064, 1258, 913, ...  [2415, 2415, 2726, 3794, 4933, 6236, 8109, 965...   \n",
            "3  NALCS  2015  Spring  Season         TIP        0        1         TL          41  [0, 0, -15, 25, 228, -6, -243, 175, -346, 16, ...  [2415, 2415, 2705, 3847, 5398, 6473, 7720, 930...   \n",
            "4  NALCS  2015  Spring  Season         CLG        1        0         T8          35  [40, 40, 44, -36, 113, 158, -121, -191, 23, 20...  [2415, 2415, 2710, 3950, 5404, 6666, 7887, 913...   \n",
            "\n",
            "                                              bKills                                            bTowers                                            bInhibs  \\\n",
            "0  [[10.82, 'C9 Hai', 'TSM Bjergsen', [], 9229, 8...  [[27.542, 'MID_LANE', 'BASE_TURRET'], [39.269,...       [[36.686, 'MID_LANE'], [29.274, 'MID_LANE']]   \n",
            "1  [[11.104, 'DIG Shiphtur', 'CST Jesiz', ['CST I...  [[23.239, 'BOT_LANE', 'OUTER_TURRET'], [33.018...                                                 []   \n",
            "2  [[5.255, 'GV Keane', 'WFX Pobelter', ['WFX Sho...  [[15.045, 'BOT_LANE', 'OUTER_TURRET'], [39.566...  [[37.511, 'TOP_LANE'], [37.38, 'BOT_LANE'], [3...   \n",
            "3  [[8.274, 'TL Quas', 'TIP Rhux', ['TIP Apollo']...  [[19.941, 'BOT_LANE', 'OUTER_TURRET'], [38.77,...                                                 []   \n",
            "4  [[11.438, 'T8 Dodo8', 'CLG Doublelift', ['CLG ...  [[22.594, 'MID_LANE', 'OUTER_TURRET'], [34.213...                             [[34.069, 'BOT_LANE']]   \n",
            "\n",
            "                                            bDragons     bBarons bHeralds                                            goldred                                             rKills  \\\n",
            "0                                   [[37.267, None]]          []       []  [2415, 2415, 2725, 3952, 5336, 6602, 7900, 945...  [[16.529, 'TSM Lustboy', 'C9 Balls', ['C9 Mete...   \n",
            "1   [[32.545, None], [26.177, None], [19.119, None]]  [[29.255]]       []  [2415, 2415, 2731, 4126, 5364, 6560, 7789, 893...  [[12.387, 'CST Jesiz', 'DIG Gamsu', ['DIG Ship...   \n",
            "2  [[24.577, None], [37.867, None], [30.87, None]...  [[35.144]]       []  [2415, 2415, 2716, 3854, 4899, 6199, 7520, 859...  [[8.449, 'WFX Altec', 'GV Cop', ['GV BunnyFuFu...   \n",
            "3                                                 []  [[37.513]]       []  [2415, 2415, 2720, 3822, 5170, 6479, 7963, 913...  [[7.768, 'TIP Rush', 'TL IWDominate', ['TL Fen...   \n",
            "4                   [[14.589, None], [30.307, None]]  [[32.556]]       []  [2375, 2375, 2666, 3986, 5291, 6508, 8008, 932...  [[11.988, 'CLG Doublelift', 'T8 Porpoise8', ['...   \n",
            "\n",
            "                                             rTowers                 rInhibs                                           rDragons     rBarons rHeralds  blueTop blueTopChamp  \\\n",
            "0  [[39.23, 'TOP_LANE', 'INNER_TURRET'], [20.681,...                      []    [[17.14, None], [30.934, None], [24.641, None]]  [[29.954]]       []    Dyrus       Irelia   \n",
            "1  [[19.257, 'MID_LANE', 'OUTER_TURRET'], [15.206...  [[36.813, 'MID_LANE']]                                   [[12.264, None]]          []       []     Cris         Gnar   \n",
            "2  [[24.62, 'MID_LANE', 'OUTER_TURRET'], [30.493,...                      []                                                 []          []       []  Flaresz     Renekton   \n",
            "3  [[36.384, 'MID_LANE', 'NEXUS_TURRET'], [31.665...  [[35.867, 'MID_LANE']]  [[26.274, None], [10.153, None], [18.515, None...          []       []     Rhux       Irelia   \n",
            "4  [[11.644, 'MID_LANE', 'OUTER_TURRET'], [12.438...                      []                                   [[21.901, None]]          []       []    Benny         Gnar   \n",
            "\n",
            "                                         goldblueTop  blueJungle blueJungleChamp                                     goldblueJungle   blueMiddle blueMiddleChamp  \\\n",
            "0  [475, 475, 532, 687, 893, 1058, 1172, 1471, 18...    Santorin          RekSai  [475, 475, 532, 870, 1049, 1276, 1596, 1815, 2...     Bjergsen            Ahri   \n",
            "1  [475, 475, 532, 791, 1127, 1509, 1674, 1875, 2...     Impaler          Rengar  [475, 475, 532, 895, 1176, 1334, 1447, 1859, 2...        Jesiz            Ahri   \n",
            "2  [475, 475, 533, 673, 828, 1075, 1428, 1775, 21...  ShorterACE          Rengar  [475, 475, 543, 836, 1041, 1261, 1568, 2002, 2...     Pobelter            Fizz   \n",
            "3  [475, 475, 532, 646, 992, 1253, 1408, 1752, 21...        Rush        JarvanIV  [475, 475, 532, 909, 1272, 1387, 1705, 2009, 2...  XiaoWeiXiao         Leblanc   \n",
            "4  [475, 475, 532, 733, 1038, 1258, 1546, 1850, 2...     Xmithie        JarvanIV  [475, 475, 532, 827, 1174, 1401, 1515, 1729, 2...         Link       Lissandra   \n",
            "\n",
            "                                      goldblueMiddle     blueADC blueADCChamp                                        goldblueADC blueSupport blueSupportChamp  \\\n",
            "0  [475, 475, 532, 807, 1102, 1307, 1651, 1950, 2...  WildTurtle         Jinx  [475, 475, 532, 797, 1127, 1453, 1766, 2044, 2...     Lustboy            Janna   \n",
            "1  [475, 475, 532, 816, 1102, 1413, 1624, 1937, 2...        Mash      Caitlyn  [475, 475, 532, 856, 1182, 1468, 1653, 1890, 2...       Sheep            Leona   \n",
            "2  [475, 475, 533, 756, 1065, 1368, 2056, 2237, 2...       Altec        Sivir  [475, 475, 533, 811, 1130, 1524, 1786, 2168, 2...       Gleeb            Annie   \n",
            "3  [475, 475, 532, 801, 1066, 1409, 1660, 2077, 2...      Apollo        Sivir  [475, 475, 532, 791, 1202, 1383, 1752, 2121, 2...      Adrian           Thresh   \n",
            "4  [475, 475, 532, 802, 1112, 1409, 1737, 1939, 2...  Doublelift     Tristana  [475, 475, 532, 857, 1203, 1554, 1883, 2254, 2...    aphromoo            Janna   \n",
            "\n",
            "                                     goldblueSupport                               blueBans       redTop redTopChamp                                         goldredTop     redJungle redJungleChamp  \\\n",
            "0  [515, 515, 583, 726, 897, 1077, 1227, 1381, 15...    ['Rumble', 'Kassadin', 'Lissandra']        Balls        Gnar  [475, 475, 532, 728, 958, 1284, 1526, 1912, 21...        Meteos          Elise   \n",
            "1  [515, 515, 577, 750, 924, 1073, 1239, 1392, 15...     ['Kassadin', 'Sivir', 'Lissandra']        Gamsu      Irelia  [475, 475, 532, 811, 1042, 1237, 1625, 1852, 2...       Crumbzz       JarvanIV   \n",
            "2  [515, 515, 584, 718, 869, 1008, 1271, 1474, 16...  ['JarvanIV', 'Lissandra', 'Kassadin']     Hauntzer        Sion  [475, 475, 533, 706, 861, 1123, 1491, 1698, 18...  Saintvicious         LeeSin   \n",
            "3  [515, 515, 577, 700, 866, 1041, 1195, 1349, 14...     ['Annie', 'Lissandra', 'Kassadin']         Quas        Gnar  [475, 475, 532, 732, 922, 1309, 1678, 1992, 22...    IWDominate           Nunu   \n",
            "4  [515, 515, 582, 731, 877, 1044, 1206, 1359, 15...     ['Irelia', 'Pantheon', 'Kassadin']  CaliTrlolz8        Sion  [475, 475, 532, 820, 1025, 1290, 1598, 1953, 2...     Porpoise8         RekSai   \n",
            "\n",
            "                                       goldredJungle redMiddle redMiddleChamp                                      goldredMiddle        redADC redADCChamp  \\\n",
            "0  [475, 475, 532, 898, 1192, 1429, 1819, 2107, 2...       Hai           Fizz  [475, 475, 552, 842, 1178, 1378, 1635, 1949, 2...        Sneaky       Sivir   \n",
            "1  [475, 475, 532, 909, 1105, 1423, 1536, 1732, 1...  Shiphtur           Azir  [475, 475, 552, 786, 1097, 1389, 1660, 1955, 2...        CoreJJ       Corki   \n",
            "2  [475, 475, 533, 845, 1089, 1443, 1694, 1914, 2...     Keane           Azir  [475, 475, 533, 801, 1006, 1233, 1385, 1720, 1...           Cop       Corki   \n",
            "3  [475, 475, 541, 832, 1171, 1385, 1770, 2087, 2...     Fenix           Lulu  [475, 475, 532, 771, 1046, 1288, 1534, 1776, 2...         KEITH      KogMaw   \n",
            "4  [475, 475, 532, 896, 1220, 1444, 1828, 2042, 2...  Slooshi8           Lulu  [475, 475, 532, 807, 1042, 1338, 1646, 1951, 2...  Maplestreet8       Corki   \n",
            "\n",
            "                                          goldredADC   redSupport redSupportChamp                                     goldredSupport                             redBans  \\\n",
            "0  [475, 475, 532, 762, 1097, 1469, 1726, 2112, 2...  LemonNation          Thresh  [515, 515, 577, 722, 911, 1042, 1194, 1370, 14...  ['Tristana', 'Leblanc', 'Nidalee']   \n",
            "1  [475, 475, 532, 868, 1220, 1445, 1732, 1979, 2...      KiWiKiD           Annie  [515, 515, 583, 752, 900, 1066, 1236, 1417, 15...      ['RekSai', 'Janna', 'Leblanc']   \n",
            "2  [475, 475, 533, 781, 1085, 1398, 1782, 1957, 2...   BunnyFuFuu           Janna  [515, 515, 584, 721, 858, 1002, 1168, 1303, 14...        ['Leblanc', 'Zed', 'RekSai']   \n",
            "3  [475, 475, 532, 766, 1161, 1438, 1776, 1936, 2...      Xpecial           Janna  [515, 515, 583, 721, 870, 1059, 1205, 1342, 15...      ['RekSai', 'Rumble', 'LeeSin']   \n",
            "4  [475, 475, 532, 792, 1187, 1488, 1832, 2136, 2...        Dodo8           Annie  [475, 475, 538, 671, 817, 948, 1104, 1240, 136...       ['Rumble', 'Sivir', 'Rengar']   \n",
            "\n",
            "                                             Address  \n",
            "0  http://matchhistory.na.leagueoflegends.com/en/...  \n",
            "1  http://matchhistory.na.leagueoflegends.com/en/...  \n",
            "2  http://matchhistory.na.leagueoflegends.com/en/...  \n",
            "3  http://matchhistory.na.leagueoflegends.com/en/...  \n",
            "4  http://matchhistory.na.leagueoflegends.com/en/...  \n",
            "\n",
            "--------------------------INFO-------------------------\n",
            "<class 'pandas.core.frame.DataFrame'>\n",
            "RangeIndex: 7620 entries, 0 to 7619\n",
            "Data columns (total 57 columns):\n",
            " #   Column            Non-Null Count  Dtype \n",
            "---  ------            --------------  ----- \n",
            " 0   League            7620 non-null   object\n",
            " 1   Year              7620 non-null   int64 \n",
            " 2   Season            7620 non-null   object\n",
            " 3   Type              7620 non-null   object\n",
            " 4   blueTeamTag       7582 non-null   object\n",
            " 5   bResult           7620 non-null   int64 \n",
            " 6   rResult           7620 non-null   int64 \n",
            " 7   redTeamTag        7583 non-null   object\n",
            " 8   gamelength        7620 non-null   int64 \n",
            " 9   golddiff          7620 non-null   object\n",
            " 10  goldblue          7620 non-null   object\n",
            " 11  bKills            7620 non-null   object\n",
            " 12  bTowers           7620 non-null   object\n",
            " 13  bInhibs           7620 non-null   object\n",
            " 14  bDragons          7620 non-null   object\n",
            " 15  bBarons           7620 non-null   object\n",
            " 16  bHeralds          7620 non-null   object\n",
            " 17  goldred           7620 non-null   object\n",
            " 18  rKills            7620 non-null   object\n",
            " 19  rTowers           7620 non-null   object\n",
            " 20  rInhibs           7620 non-null   object\n",
            " 21  rDragons          7620 non-null   object\n",
            " 22  rBarons           7620 non-null   object\n",
            " 23  rHeralds          7620 non-null   object\n",
            " 24  blueTop           7583 non-null   object\n",
            " 25  blueTopChamp      7620 non-null   object\n",
            " 26  goldblueTop       7620 non-null   object\n",
            " 27  blueJungle        7592 non-null   object\n",
            " 28  blueJungleChamp   7620 non-null   object\n",
            " 29  goldblueJungle    7620 non-null   object\n",
            " 30  blueMiddle        7583 non-null   object\n",
            " 31  blueMiddleChamp   7620 non-null   object\n",
            " 32  goldblueMiddle    7620 non-null   object\n",
            " 33  blueADC           7583 non-null   object\n",
            " 34  blueADCChamp      7620 non-null   object\n",
            " 35  goldblueADC       7620 non-null   object\n",
            " 36  blueSupport       7583 non-null   object\n",
            " 37  blueSupportChamp  7620 non-null   object\n",
            " 38  goldblueSupport   7620 non-null   object\n",
            " 39  blueBans          7620 non-null   object\n",
            " 40  redTop            7583 non-null   object\n",
            " 41  redTopChamp       7620 non-null   object\n",
            " 42  goldredTop        7620 non-null   object\n",
            " 43  redJungle         7596 non-null   object\n",
            " 44  redJungleChamp    7620 non-null   object\n",
            " 45  goldredJungle     7620 non-null   object\n",
            " 46  redMiddle         7583 non-null   object\n",
            " 47  redMiddleChamp    7620 non-null   object\n",
            " 48  goldredMiddle     7620 non-null   object\n",
            " 49  redADC            7583 non-null   object\n",
            " 50  redADCChamp       7620 non-null   object\n",
            " 51  goldredADC        7620 non-null   object\n",
            " 52  redSupport        7583 non-null   object\n",
            " 53  redSupportChamp   7620 non-null   object\n",
            " 54  goldredSupport    7620 non-null   object\n",
            " 55  redBans           7620 non-null   object\n",
            " 56  Address           7620 non-null   object\n",
            "dtypes: int64(4), object(53)\n",
            "memory usage: 3.3+ MB\n",
            "None\n",
            "\n",
            "-------------------------DESCRIBE------------------------\n",
            "              Year      bResult      rResult   gamelength\n",
            "count  7620.000000  7620.000000  7620.000000  7620.000000\n",
            "mean   2016.280971     0.544094     0.455906    37.012598\n",
            "std       0.848200     0.498085     0.498085     7.983238\n",
            "min    2014.000000     0.000000     0.000000    17.000000\n",
            "25%    2016.000000     0.000000     0.000000    31.000000\n",
            "50%    2016.000000     1.000000     0.000000    36.000000\n",
            "75%    2017.000000     1.000000     1.000000    41.000000\n",
            "max    2018.000000     1.000000     1.000000    95.000000\n"
          ]
        }
      ]
    },
    {
      "cell_type": "markdown",
      "source": [
        "#Cleaning the Data"
      ],
      "metadata": {
        "id": "sHu3UesXVpbz"
      }
    },
    {
      "cell_type": "markdown",
      "source": [
        "##Selecting Significant Columns and Removing The Rest"
      ],
      "metadata": {
        "id": "dbmR7yfkbzDT"
      }
    },
    {
      "cell_type": "markdown",
      "source": [
        "In order to keep things as simple as possible, All uneccesary columns are removed from the dataset. This is to remove any clutter from the dataset as it is so large.\n",
        "\n",
        "Since the rResult and bResult are of binary classification and a '1' in one column means a '0' in the other, we can remove the 'rResult' and assume that a '0' in 'bResult' means a win for the red team.\n",
        "\n",
        "All columns relating to champion selection remain in the dataset."
      ],
      "metadata": {
        "id": "dwDGkPZcjVD4"
      }
    },
    {
      "cell_type": "code",
      "source": [
        "#listing the columns relative to this study\n",
        "columns_to_keep = [\n",
        "    'bResult', 'blueTopChamp', 'blueMiddleChamp', 'blueJungleChamp',\n",
        "    'blueADCChamp', 'blueSupportChamp', 'redTopChamp', 'redMiddleChamp',\n",
        "    'redJungleChamp', 'redADCChamp', 'redSupportChamp'\n",
        "]\n",
        "\n",
        "#dropping all unrelated collumns\n",
        "df_champions = df.loc[:, columns_to_keep]\n",
        "\n",
        "#reviewing the chnage in shape\n",
        "df_champions.head()"
      ],
      "metadata": {
        "colab": {
          "base_uri": "https://localhost:8080/",
          "height": 206
        },
        "id": "5S9KR_AxWawY",
        "outputId": "b0d93830-2ee9-4c1b-eda1-fd38a4650197"
      },
      "execution_count": 4,
      "outputs": [
        {
          "output_type": "execute_result",
          "data": {
            "text/plain": [
              "   bResult blueTopChamp blueMiddleChamp blueJungleChamp blueADCChamp blueSupportChamp redTopChamp redMiddleChamp redJungleChamp redADCChamp redSupportChamp\n",
              "0        1       Irelia            Ahri          RekSai         Jinx            Janna        Gnar           Fizz          Elise       Sivir          Thresh\n",
              "1        0         Gnar            Ahri          Rengar      Caitlyn            Leona      Irelia           Azir       JarvanIV       Corki           Annie\n",
              "2        1     Renekton            Fizz          Rengar        Sivir            Annie        Sion           Azir         LeeSin       Corki           Janna\n",
              "3        0       Irelia         Leblanc        JarvanIV        Sivir           Thresh        Gnar           Lulu           Nunu      KogMaw           Janna\n",
              "4        1         Gnar       Lissandra        JarvanIV     Tristana            Janna        Sion           Lulu         RekSai       Corki           Annie"
            ],
            "text/html": [
              "\n",
              "  <div id=\"df-e18cfa09-20cf-41bd-8a10-98bb2a9a0e22\" class=\"colab-df-container\">\n",
              "    <div>\n",
              "<style scoped>\n",
              "    .dataframe tbody tr th:only-of-type {\n",
              "        vertical-align: middle;\n",
              "    }\n",
              "\n",
              "    .dataframe tbody tr th {\n",
              "        vertical-align: top;\n",
              "    }\n",
              "\n",
              "    .dataframe thead th {\n",
              "        text-align: right;\n",
              "    }\n",
              "</style>\n",
              "<table border=\"1\" class=\"dataframe\">\n",
              "  <thead>\n",
              "    <tr style=\"text-align: right;\">\n",
              "      <th></th>\n",
              "      <th>bResult</th>\n",
              "      <th>blueTopChamp</th>\n",
              "      <th>blueMiddleChamp</th>\n",
              "      <th>blueJungleChamp</th>\n",
              "      <th>blueADCChamp</th>\n",
              "      <th>blueSupportChamp</th>\n",
              "      <th>redTopChamp</th>\n",
              "      <th>redMiddleChamp</th>\n",
              "      <th>redJungleChamp</th>\n",
              "      <th>redADCChamp</th>\n",
              "      <th>redSupportChamp</th>\n",
              "    </tr>\n",
              "  </thead>\n",
              "  <tbody>\n",
              "    <tr>\n",
              "      <th>0</th>\n",
              "      <td>1</td>\n",
              "      <td>Irelia</td>\n",
              "      <td>Ahri</td>\n",
              "      <td>RekSai</td>\n",
              "      <td>Jinx</td>\n",
              "      <td>Janna</td>\n",
              "      <td>Gnar</td>\n",
              "      <td>Fizz</td>\n",
              "      <td>Elise</td>\n",
              "      <td>Sivir</td>\n",
              "      <td>Thresh</td>\n",
              "    </tr>\n",
              "    <tr>\n",
              "      <th>1</th>\n",
              "      <td>0</td>\n",
              "      <td>Gnar</td>\n",
              "      <td>Ahri</td>\n",
              "      <td>Rengar</td>\n",
              "      <td>Caitlyn</td>\n",
              "      <td>Leona</td>\n",
              "      <td>Irelia</td>\n",
              "      <td>Azir</td>\n",
              "      <td>JarvanIV</td>\n",
              "      <td>Corki</td>\n",
              "      <td>Annie</td>\n",
              "    </tr>\n",
              "    <tr>\n",
              "      <th>2</th>\n",
              "      <td>1</td>\n",
              "      <td>Renekton</td>\n",
              "      <td>Fizz</td>\n",
              "      <td>Rengar</td>\n",
              "      <td>Sivir</td>\n",
              "      <td>Annie</td>\n",
              "      <td>Sion</td>\n",
              "      <td>Azir</td>\n",
              "      <td>LeeSin</td>\n",
              "      <td>Corki</td>\n",
              "      <td>Janna</td>\n",
              "    </tr>\n",
              "    <tr>\n",
              "      <th>3</th>\n",
              "      <td>0</td>\n",
              "      <td>Irelia</td>\n",
              "      <td>Leblanc</td>\n",
              "      <td>JarvanIV</td>\n",
              "      <td>Sivir</td>\n",
              "      <td>Thresh</td>\n",
              "      <td>Gnar</td>\n",
              "      <td>Lulu</td>\n",
              "      <td>Nunu</td>\n",
              "      <td>KogMaw</td>\n",
              "      <td>Janna</td>\n",
              "    </tr>\n",
              "    <tr>\n",
              "      <th>4</th>\n",
              "      <td>1</td>\n",
              "      <td>Gnar</td>\n",
              "      <td>Lissandra</td>\n",
              "      <td>JarvanIV</td>\n",
              "      <td>Tristana</td>\n",
              "      <td>Janna</td>\n",
              "      <td>Sion</td>\n",
              "      <td>Lulu</td>\n",
              "      <td>RekSai</td>\n",
              "      <td>Corki</td>\n",
              "      <td>Annie</td>\n",
              "    </tr>\n",
              "  </tbody>\n",
              "</table>\n",
              "</div>\n",
              "    <div class=\"colab-df-buttons\">\n",
              "\n",
              "  <div class=\"colab-df-container\">\n",
              "    <button class=\"colab-df-convert\" onclick=\"convertToInteractive('df-e18cfa09-20cf-41bd-8a10-98bb2a9a0e22')\"\n",
              "            title=\"Convert this dataframe to an interactive table.\"\n",
              "            style=\"display:none;\">\n",
              "\n",
              "  <svg xmlns=\"http://www.w3.org/2000/svg\" height=\"24px\" viewBox=\"0 -960 960 960\">\n",
              "    <path d=\"M120-120v-720h720v720H120Zm60-500h600v-160H180v160Zm220 220h160v-160H400v160Zm0 220h160v-160H400v160ZM180-400h160v-160H180v160Zm440 0h160v-160H620v160ZM180-180h160v-160H180v160Zm440 0h160v-160H620v160Z\"/>\n",
              "  </svg>\n",
              "    </button>\n",
              "\n",
              "  <style>\n",
              "    .colab-df-container {\n",
              "      display:flex;\n",
              "      gap: 12px;\n",
              "    }\n",
              "\n",
              "    .colab-df-convert {\n",
              "      background-color: #E8F0FE;\n",
              "      border: none;\n",
              "      border-radius: 50%;\n",
              "      cursor: pointer;\n",
              "      display: none;\n",
              "      fill: #1967D2;\n",
              "      height: 32px;\n",
              "      padding: 0 0 0 0;\n",
              "      width: 32px;\n",
              "    }\n",
              "\n",
              "    .colab-df-convert:hover {\n",
              "      background-color: #E2EBFA;\n",
              "      box-shadow: 0px 1px 2px rgba(60, 64, 67, 0.3), 0px 1px 3px 1px rgba(60, 64, 67, 0.15);\n",
              "      fill: #174EA6;\n",
              "    }\n",
              "\n",
              "    .colab-df-buttons div {\n",
              "      margin-bottom: 4px;\n",
              "    }\n",
              "\n",
              "    [theme=dark] .colab-df-convert {\n",
              "      background-color: #3B4455;\n",
              "      fill: #D2E3FC;\n",
              "    }\n",
              "\n",
              "    [theme=dark] .colab-df-convert:hover {\n",
              "      background-color: #434B5C;\n",
              "      box-shadow: 0px 1px 3px 1px rgba(0, 0, 0, 0.15);\n",
              "      filter: drop-shadow(0px 1px 2px rgba(0, 0, 0, 0.3));\n",
              "      fill: #FFFFFF;\n",
              "    }\n",
              "  </style>\n",
              "\n",
              "    <script>\n",
              "      const buttonEl =\n",
              "        document.querySelector('#df-e18cfa09-20cf-41bd-8a10-98bb2a9a0e22 button.colab-df-convert');\n",
              "      buttonEl.style.display =\n",
              "        google.colab.kernel.accessAllowed ? 'block' : 'none';\n",
              "\n",
              "      async function convertToInteractive(key) {\n",
              "        const element = document.querySelector('#df-e18cfa09-20cf-41bd-8a10-98bb2a9a0e22');\n",
              "        const dataTable =\n",
              "          await google.colab.kernel.invokeFunction('convertToInteractive',\n",
              "                                                    [key], {});\n",
              "        if (!dataTable) return;\n",
              "\n",
              "        const docLinkHtml = 'Like what you see? Visit the ' +\n",
              "          '<a target=\"_blank\" href=https://colab.research.google.com/notebooks/data_table.ipynb>data table notebook</a>'\n",
              "          + ' to learn more about interactive tables.';\n",
              "        element.innerHTML = '';\n",
              "        dataTable['output_type'] = 'display_data';\n",
              "        await google.colab.output.renderOutput(dataTable, element);\n",
              "        const docLink = document.createElement('div');\n",
              "        docLink.innerHTML = docLinkHtml;\n",
              "        element.appendChild(docLink);\n",
              "      }\n",
              "    </script>\n",
              "  </div>\n",
              "\n",
              "\n",
              "<div id=\"df-5c5f94a4-2b7f-4bbf-af80-9ff99ae31eb0\">\n",
              "  <button class=\"colab-df-quickchart\" onclick=\"quickchart('df-5c5f94a4-2b7f-4bbf-af80-9ff99ae31eb0')\"\n",
              "            title=\"Suggest charts\"\n",
              "            style=\"display:none;\">\n",
              "\n",
              "<svg xmlns=\"http://www.w3.org/2000/svg\" height=\"24px\"viewBox=\"0 0 24 24\"\n",
              "     width=\"24px\">\n",
              "    <g>\n",
              "        <path d=\"M19 3H5c-1.1 0-2 .9-2 2v14c0 1.1.9 2 2 2h14c1.1 0 2-.9 2-2V5c0-1.1-.9-2-2-2zM9 17H7v-7h2v7zm4 0h-2V7h2v10zm4 0h-2v-4h2v4z\"/>\n",
              "    </g>\n",
              "</svg>\n",
              "  </button>\n",
              "\n",
              "<style>\n",
              "  .colab-df-quickchart {\n",
              "      --bg-color: #E8F0FE;\n",
              "      --fill-color: #1967D2;\n",
              "      --hover-bg-color: #E2EBFA;\n",
              "      --hover-fill-color: #174EA6;\n",
              "      --disabled-fill-color: #AAA;\n",
              "      --disabled-bg-color: #DDD;\n",
              "  }\n",
              "\n",
              "  [theme=dark] .colab-df-quickchart {\n",
              "      --bg-color: #3B4455;\n",
              "      --fill-color: #D2E3FC;\n",
              "      --hover-bg-color: #434B5C;\n",
              "      --hover-fill-color: #FFFFFF;\n",
              "      --disabled-bg-color: #3B4455;\n",
              "      --disabled-fill-color: #666;\n",
              "  }\n",
              "\n",
              "  .colab-df-quickchart {\n",
              "    background-color: var(--bg-color);\n",
              "    border: none;\n",
              "    border-radius: 50%;\n",
              "    cursor: pointer;\n",
              "    display: none;\n",
              "    fill: var(--fill-color);\n",
              "    height: 32px;\n",
              "    padding: 0;\n",
              "    width: 32px;\n",
              "  }\n",
              "\n",
              "  .colab-df-quickchart:hover {\n",
              "    background-color: var(--hover-bg-color);\n",
              "    box-shadow: 0 1px 2px rgba(60, 64, 67, 0.3), 0 1px 3px 1px rgba(60, 64, 67, 0.15);\n",
              "    fill: var(--button-hover-fill-color);\n",
              "  }\n",
              "\n",
              "  .colab-df-quickchart-complete:disabled,\n",
              "  .colab-df-quickchart-complete:disabled:hover {\n",
              "    background-color: var(--disabled-bg-color);\n",
              "    fill: var(--disabled-fill-color);\n",
              "    box-shadow: none;\n",
              "  }\n",
              "\n",
              "  .colab-df-spinner {\n",
              "    border: 2px solid var(--fill-color);\n",
              "    border-color: transparent;\n",
              "    border-bottom-color: var(--fill-color);\n",
              "    animation:\n",
              "      spin 1s steps(1) infinite;\n",
              "  }\n",
              "\n",
              "  @keyframes spin {\n",
              "    0% {\n",
              "      border-color: transparent;\n",
              "      border-bottom-color: var(--fill-color);\n",
              "      border-left-color: var(--fill-color);\n",
              "    }\n",
              "    20% {\n",
              "      border-color: transparent;\n",
              "      border-left-color: var(--fill-color);\n",
              "      border-top-color: var(--fill-color);\n",
              "    }\n",
              "    30% {\n",
              "      border-color: transparent;\n",
              "      border-left-color: var(--fill-color);\n",
              "      border-top-color: var(--fill-color);\n",
              "      border-right-color: var(--fill-color);\n",
              "    }\n",
              "    40% {\n",
              "      border-color: transparent;\n",
              "      border-right-color: var(--fill-color);\n",
              "      border-top-color: var(--fill-color);\n",
              "    }\n",
              "    60% {\n",
              "      border-color: transparent;\n",
              "      border-right-color: var(--fill-color);\n",
              "    }\n",
              "    80% {\n",
              "      border-color: transparent;\n",
              "      border-right-color: var(--fill-color);\n",
              "      border-bottom-color: var(--fill-color);\n",
              "    }\n",
              "    90% {\n",
              "      border-color: transparent;\n",
              "      border-bottom-color: var(--fill-color);\n",
              "    }\n",
              "  }\n",
              "</style>\n",
              "\n",
              "  <script>\n",
              "    async function quickchart(key) {\n",
              "      const quickchartButtonEl =\n",
              "        document.querySelector('#' + key + ' button');\n",
              "      quickchartButtonEl.disabled = true;  // To prevent multiple clicks.\n",
              "      quickchartButtonEl.classList.add('colab-df-spinner');\n",
              "      try {\n",
              "        const charts = await google.colab.kernel.invokeFunction(\n",
              "            'suggestCharts', [key], {});\n",
              "      } catch (error) {\n",
              "        console.error('Error during call to suggestCharts:', error);\n",
              "      }\n",
              "      quickchartButtonEl.classList.remove('colab-df-spinner');\n",
              "      quickchartButtonEl.classList.add('colab-df-quickchart-complete');\n",
              "    }\n",
              "    (() => {\n",
              "      let quickchartButtonEl =\n",
              "        document.querySelector('#df-5c5f94a4-2b7f-4bbf-af80-9ff99ae31eb0 button');\n",
              "      quickchartButtonEl.style.display =\n",
              "        google.colab.kernel.accessAllowed ? 'block' : 'none';\n",
              "    })();\n",
              "  </script>\n",
              "</div>\n",
              "\n",
              "    </div>\n",
              "  </div>\n"
            ],
            "application/vnd.google.colaboratory.intrinsic+json": {
              "type": "dataframe",
              "variable_name": "df_champions",
              "summary": "{\n  \"name\": \"df_champions\",\n  \"rows\": 7620,\n  \"fields\": [\n    {\n      \"column\": \"bResult\",\n      \"properties\": {\n        \"dtype\": \"number\",\n        \"std\": 0,\n        \"min\": 0,\n        \"max\": 1,\n        \"num_unique_values\": 2,\n        \"samples\": [\n          0,\n          1\n        ],\n        \"semantic_type\": \"\",\n        \"description\": \"\"\n      }\n    },\n    {\n      \"column\": \"blueTopChamp\",\n      \"properties\": {\n        \"dtype\": \"category\",\n        \"num_unique_values\": 78,\n        \"samples\": [\n          \"Quinn\",\n          \"Irelia\"\n        ],\n        \"semantic_type\": \"\",\n        \"description\": \"\"\n      }\n    },\n    {\n      \"column\": \"blueMiddleChamp\",\n      \"properties\": {\n        \"dtype\": \"category\",\n        \"num_unique_values\": 71,\n        \"samples\": [\n          \"JarvanIV\",\n          \"Ahri\"\n        ],\n        \"semantic_type\": \"\",\n        \"description\": \"\"\n      }\n    },\n    {\n      \"column\": \"blueJungleChamp\",\n      \"properties\": {\n        \"dtype\": \"category\",\n        \"num_unique_values\": 57,\n        \"samples\": [\n          \"RekSai\",\n          \"LeeSin\"\n        ],\n        \"semantic_type\": \"\",\n        \"description\": \"\"\n      }\n    },\n    {\n      \"column\": \"blueADCChamp\",\n      \"properties\": {\n        \"dtype\": \"category\",\n        \"num_unique_values\": 30,\n        \"samples\": [\n          \"Karma\",\n          \"Varus\"\n        ],\n        \"semantic_type\": \"\",\n        \"description\": \"\"\n      }\n    },\n    {\n      \"column\": \"blueSupportChamp\",\n      \"properties\": {\n        \"dtype\": \"category\",\n        \"num_unique_values\": 55,\n        \"samples\": [\n          \"Sion\",\n          \"Morgana\"\n        ],\n        \"semantic_type\": \"\",\n        \"description\": \"\"\n      }\n    },\n    {\n      \"column\": \"redTopChamp\",\n      \"properties\": {\n        \"dtype\": \"category\",\n        \"num_unique_values\": 81,\n        \"samples\": [\n          \"Trundle\",\n          \"Gnar\"\n        ],\n        \"semantic_type\": \"\",\n        \"description\": \"\"\n      }\n    },\n    {\n      \"column\": \"redMiddleChamp\",\n      \"properties\": {\n        \"dtype\": \"category\",\n        \"num_unique_values\": 77,\n        \"samples\": [\n          \"Zed\",\n          \"Ryze\"\n        ],\n        \"semantic_type\": \"\",\n        \"description\": \"\"\n      }\n    },\n    {\n      \"column\": \"redJungleChamp\",\n      \"properties\": {\n        \"dtype\": \"category\",\n        \"num_unique_values\": 59,\n        \"samples\": [\n          \"Elise\",\n          \"Rengar\"\n        ],\n        \"semantic_type\": \"\",\n        \"description\": \"\"\n      }\n    },\n    {\n      \"column\": \"redADCChamp\",\n      \"properties\": {\n        \"dtype\": \"category\",\n        \"num_unique_values\": 34,\n        \"samples\": [\n          \"Draven\",\n          \"MissFortune\"\n        ],\n        \"semantic_type\": \"\",\n        \"description\": \"\"\n      }\n    },\n    {\n      \"column\": \"redSupportChamp\",\n      \"properties\": {\n        \"dtype\": \"category\",\n        \"num_unique_values\": 55,\n        \"samples\": [\n          \"Fiddlesticks\",\n          \"Morgana\"\n        ],\n        \"semantic_type\": \"\",\n        \"description\": \"\"\n      }\n    }\n  ]\n}"
            }
          },
          "metadata": {},
          "execution_count": 4
        }
      ]
    },
    {
      "cell_type": "markdown",
      "source": [
        "##Checking for Null Values and Duplicates\n",
        "\n",
        "The dataset has no null values or corrupted data replaced with a '?' therefore we dont need to remove anything.\n",
        "\n",
        "There are 2 duplicate columns. However, due to the nature of champion selection and the number of game instances, it is entirely possible that identical team layouts can occurr and share the same result, so they will not be removed from this dataset.  "
      ],
      "metadata": {
        "id": "R1By098jb9rD"
      }
    },
    {
      "cell_type": "code",
      "source": [
        "#check for null values\n",
        "null_values = df_champions.isnull()\n",
        "\n",
        "#checking null values\n",
        "if null_values.any().any():\n",
        "    #if null values exist\n",
        "    print(\"Null values are present in the DataFrame:\")\n",
        "    print(null_values)\n",
        "else:\n",
        "    print(\"No null values are present in the DataFrame.\")\n",
        "\n",
        "#check for '?' values\n",
        "question_mark_values = df_champions.eq('?')\n",
        "\n",
        "if question_mark_values.any().any():\n",
        "    print(\"'?' values are present in the DataFrame:\")\n",
        "    print(question_mark_values)\n",
        "else:\n",
        "    print(\"No '?' values are present in the DataFrame.\")\n",
        "\n",
        "#check for duplicate values\n",
        "duplicate_values = df_champions[df_champions.duplicated()]\n",
        "\n",
        "#if there are duplicate values\n",
        "if not duplicate_values.empty:\n",
        "    print(\"Duplicate values are present in the DataFrame:\")\n",
        "    print(duplicate_values)\n",
        "else:\n",
        "    print(\"No duplicate values are present in the DataFrame.\")"
      ],
      "metadata": {
        "colab": {
          "base_uri": "https://localhost:8080/"
        },
        "id": "tRpqRDBuVpCI",
        "outputId": "143ede1c-d148-460f-911f-dea45dbcc262"
      },
      "execution_count": 5,
      "outputs": [
        {
          "output_type": "stream",
          "name": "stdout",
          "text": [
            "No null values are present in the DataFrame.\n",
            "No '?' values are present in the DataFrame.\n",
            "Duplicate values are present in the DataFrame:\n",
            "      bResult blueTopChamp blueMiddleChamp blueJungleChamp blueADCChamp blueSupportChamp redTopChamp redMiddleChamp redJungleChamp redADCChamp redSupportChamp\n",
            "1645        0       Maokai            Ryze         Kindred      Kalista           Thresh        Ekko           Azir         Graves      Ezreal         Trundle\n",
            "6765        0        Poppy            Ekko         Nidalee       Lucian           Soraka     Trundle           Azir          Elise      Ezreal            Nami\n"
          ]
        }
      ]
    },
    {
      "cell_type": "markdown",
      "source": [
        "#Visualising Champion Info\n",
        "\n",
        "Visualising the champion count of each role. As the data shows, some champions are played much more frequently than others. This could be due to chance or popularity, or perhaps there is a reason?  Maybe some champions are better than others and lead to more wins?"
      ],
      "metadata": {
        "id": "OGp_dahRcl0T"
      }
    },
    {
      "cell_type": "code",
      "source": [
        "\n",
        "#Selecting columns to visualise together\n",
        "topChampions = df_champions[['blueTopChamp', 'redTopChamp']]\n",
        "jglChampions = df_champions[['blueJungleChamp', 'redJungleChamp']]\n",
        "midChampions = df_champions[['blueMiddleChamp', 'redMiddleChamp']]\n",
        "adcChampions = df_champions[['blueADCChamp', 'redADCChamp']]\n",
        "suppChampions = df_champions[['blueSupportChamp', 'redSupportChamp']]\n",
        "\n",
        "#TOP\n",
        "#flattens the df into one column 'Champion'\n",
        "topChampions_flat = topChampions.melt(value_name='Champion')['Champion']\n",
        "filteredTopChamps = topChampions_flat.value_counts()[topChampions_flat.value_counts() > 50]\n",
        "\n",
        "#JUNGLE\n",
        "jglChampions_flat = jglChampions.melt(value_name='Champion')['Champion']\n",
        "filteredjglChamps = jglChampions_flat.value_counts()[jglChampions_flat.value_counts() > 50]\n",
        "\n",
        "#MIDDLE\n",
        "midChampions_flat = midChampions.melt(value_name='Champion')['Champion']\n",
        "filteredmidChamps = midChampions_flat.value_counts()[midChampions_flat.value_counts() > 50]\n",
        "\n",
        "#ADC\n",
        "adcChampions_flat = adcChampions.melt(value_name='Champion')['Champion']\n",
        "filteredadcChamps = adcChampions_flat.value_counts()[adcChampions_flat.value_counts() > 50]\n",
        "\n",
        "#SUPPORT\n",
        "suppChampions_flat = suppChampions.melt(value_name='Champion')['Champion']\n",
        "filteredsuppChamps = suppChampions_flat.value_counts()[suppChampions_flat.value_counts() > 50]\n",
        "\n",
        "fig, axes = plt.subplots(1, 5, figsize=(20, 5), sharey=True)\n",
        "\n",
        "# Plot each role's data on its respective subplot\n",
        "filteredTopChamps.plot(kind='bar', ax=axes[0], title='Top Champions')\n",
        "filteredjglChamps.plot(kind='bar', ax=axes[1], title='Jungle Champions')\n",
        "filteredmidChamps.plot(kind='bar', ax=axes[2], title='Middle Champions')\n",
        "filteredadcChamps.plot(kind='bar', ax=axes[3], title='ADC Champions')\n",
        "filteredsuppChamps.plot(kind='bar', ax=axes[4], title='Support Champions')\n",
        "\n",
        "# Adjust layout for better appearance\n",
        "fig.tight_layout()\n",
        "\n",
        "# Show the plots\n",
        "plt.show()\n",
        "\n",
        "\n"
      ],
      "metadata": {
        "colab": {
          "base_uri": "https://localhost:8080/",
          "height": 460
        },
        "id": "ARteHDRccrik",
        "outputId": "5c4e084e-69c5-4f57-a092-f85260ceec67"
      },
      "execution_count": 6,
      "outputs": [
        {
          "output_type": "display_data",
          "data": {
            "text/plain": [
              "<Figure size 2000x500 with 5 Axes>"
            ],
            "image/png": "[encoded data removed]"
          },
          "metadata": {}
        }
      ]
    },
    {
      "cell_type": "markdown",
      "source": [
        "#Embedding Champions with Label\n",
        "\n"
      ],
      "metadata": {
        "id": "MU4izbLzja_R"
      }
    },
    {
      "cell_type": "markdown",
      "source": [
        "In order to see which champions or groups of champions are most likely to result in a teams victory, they need to be labelled with an Integer ID, so that they can be fed into a model and compared.\n",
        "\n",
        "Each unique champion listed in the dataset is given an ID of integer type."
      ],
      "metadata": {
        "id": "oFRFZRgTlqiq"
      }
    },
    {
      "cell_type": "markdown",
      "source": [
        "##Getting all Unique Champions from all 10 columns"
      ],
      "metadata": {
        "id": "6be2Xv7TomjP"
      }
    },
    {
      "cell_type": "code",
      "source": [
        "#dropping Target Column so it doesnt get included in function below\n",
        "df_champions.drop(columns=['bResult'], inplace=True)\n",
        "\n",
        "#flatten all columns into a single list of UNIQUE champions\n",
        "all_champions = pd.unique(df_champions.values.ravel())\n",
        "\n",
        "print(\"All Unique Champions: \", all_champions)"
      ],
      "metadata": {
        "colab": {
          "base_uri": "https://localhost:8080/"
        },
        "id": "bCGChek0kQTv",
        "outputId": "c088052a-40d0-4734-cc0a-4ac9c338b0db"
      },
      "execution_count": 7,
      "outputs": [
        {
          "output_type": "stream",
          "name": "stdout",
          "text": [
            "All Unique Champions:  ['Irelia' 'Ahri' 'RekSai' 'Jinx' 'Janna' 'Gnar' 'Fizz' 'Elise' 'Sivir'\n",
            " 'Thresh' 'Rengar' 'Caitlyn' 'Leona' 'Azir' 'JarvanIV' 'Corki' 'Annie'\n",
            " 'Renekton' 'Sion' 'LeeSin' 'Leblanc' 'Lulu' 'Nunu' 'KogMaw' 'Lissandra'\n",
            " 'Tristana' 'Kassadin' 'Xerath' 'Nami' 'Rumble' 'Blitzcrank' 'Orianna'\n",
            " 'Zed' 'Vi' 'Morgana' 'Nocturne' 'Graves' 'Ezreal' 'Jax' 'Kalista'\n",
            " 'Cassiopeia' 'Maokai' 'Malphite' 'Vayne' 'Nidalee' 'Lucian' 'Alistar'\n",
            " 'Yasuo' 'Draven' 'Braum' 'Swain' 'Veigar' 'DrMundo' 'Syndra' 'Kennen'\n",
            " 'Hecarim' 'Viktor' 'Gragas' 'FiddleSticks' 'Sejuani' 'Karthus' 'Chogath'\n",
            " 'Nautilus' 'Urgot' 'Zac' 'Vladimir' 'Twitch' 'Katarina' 'Varus' 'Diana'\n",
            " 'Ashe' 'Ziggs' 'Evelynn' 'Ryze' 'TwistedFate' 'Bard' 'Ekko' 'Karma'\n",
            " 'XinZhao' 'Jayce' 'Shen' 'Olaf' 'Shyvana' 'MasterYi' 'Khazix' 'Riven'\n",
            " 'Gangplank' 'Soraka' 'Amumu' 'Velkoz' 'MissFortune' 'Anivia' 'Kindred'\n",
            " 'Fiora' 'Trundle' 'Poppy' 'TahmKench' 'Lux' 'Zilean' 'Quinn' 'Jhin'\n",
            " 'Pantheon' 'Kayle' 'Udyr' 'Rammus' 'Zyra' 'Illaoi' 'Brand' 'AurelionSol'\n",
            " 'Taliyah' 'Malzahar' 'Taric' 'Sona' 'Teemo' 'Mordekaiser' 'Singed'\n",
            " 'Camille' 'Ivern' 'Warwick' 'Shaco' 'Kled' 'Talon' 'Galio' 'Xayah'\n",
            " 'Rakan' 'Kayn' 'Nasus' 'Aatrox' 'Yorick' 'Volibear' 'MonkeyKing' 'Akali'\n",
            " 'Fiddlesticks' 'Heimerdinger' 'Garen' 'Skarner' 'Darius' 'Tryndamere'\n",
            " 'Ornn' 'Zoe']\n"
          ]
        }
      ]
    },
    {
      "cell_type": "code",
      "source": [
        "#Create a mapping from champion names to integer IDs\n",
        "champion_to_id = {champ: idx for idx, champ in enumerate(all_champions)}\n",
        "\n",
        "#Create reverse mapping so that it can be referenced in the future\n",
        "id_to_champion = {idx: champ for champ, idx in champion_to_id.items()}\n",
        "\n",
        "#replace all champs with their ID in the dataset\n",
        "df_champs_encoded = df_champions.replace(champion_to_id)\n",
        "\n",
        "#adding bResult back into dataset\n",
        "df_champs_encoded.insert(0, 'bResult', df['bResult'])\n",
        "\n",
        "#displaying results\n",
        "print(\"CHAMPIONS TO ID:\")\n",
        "print(champion_to_id)\n",
        "print(\"-----------\")\n",
        "print(\"ID TO CHAMPIONS:\")\n",
        "print(id_to_champion) #\n",
        "print(\"-----------\")\n"
      ],
      "metadata": {
        "colab": {
          "base_uri": "https://localhost:8080/"
        },
        "id": "Y4hjW8eXoeld",
        "outputId": "abd2aef9-eaf6-45ea-b00b-e90c5e105b3a"
      },
      "execution_count": 8,
      "outputs": [
        {
          "output_type": "stream",
          "name": "stdout",
          "text": [
            "CHAMPIONS TO ID:\n",
            "{'Irelia': 0, 'Ahri': 1, 'RekSai': 2, 'Jinx': 3, 'Janna': 4, 'Gnar': 5, 'Fizz': 6, 'Elise': 7, 'Sivir': 8, 'Thresh': 9, 'Rengar': 10, 'Caitlyn': 11, 'Leona': 12, 'Azir': 13, 'JarvanIV': 14, 'Corki': 15, 'Annie': 16, 'Renekton': 17, 'Sion': 18, 'LeeSin': 19, 'Leblanc': 20, 'Lulu': 21, 'Nunu': 22, 'KogMaw': 23, 'Lissandra': 24, 'Tristana': 25, 'Kassadin': 26, 'Xerath': 27, 'Nami': 28, 'Rumble': 29, 'Blitzcrank': 30, 'Orianna': 31, 'Zed': 32, 'Vi': 33, 'Morgana': 34, 'Nocturne': 35, 'Graves': 36, 'Ezreal': 37, 'Jax': 38, 'Kalista': 39, 'Cassiopeia': 40, 'Maokai': 41, 'Malphite': 42, 'Vayne': 43, 'Nidalee': 44, 'Lucian': 45, 'Alistar': 46, 'Yasuo': 47, 'Draven': 48, 'Braum': 49, 'Swain': 50, 'Veigar': 51, 'DrMundo': 52, 'Syndra': 53, 'Kennen': 54, 'Hecarim': 55, 'Viktor': 56, 'Gragas': 57, 'FiddleSticks': 58, 'Sejuani': 59, 'Karthus': 60, 'Chogath': 61, 'Nautilus': 62, 'Urgot': 63, 'Zac': 64, 'Vladimir': 65, 'Twitch': 66, 'Katarina': 67, 'Varus': 68, 'Diana': 69, 'Ashe': 70, 'Ziggs': 71, 'Evelynn': 72, 'Ryze': 73, 'TwistedFate': 74, 'Bard': 75, 'Ekko': 76, 'Karma': 77, 'XinZhao': 78, 'Jayce': 79, 'Shen': 80, 'Olaf': 81, 'Shyvana': 82, 'MasterYi': 83, 'Khazix': 84, 'Riven': 85, 'Gangplank': 86, 'Soraka': 87, 'Amumu': 88, 'Velkoz': 89, 'MissFortune': 90, 'Anivia': 91, 'Kindred': 92, 'Fiora': 93, 'Trundle': 94, 'Poppy': 95, 'TahmKench': 96, 'Lux': 97, 'Zilean': 98, 'Quinn': 99, 'Jhin': 100, 'Pantheon': 101, 'Kayle': 102, 'Udyr': 103, 'Rammus': 104, 'Zyra': 105, 'Illaoi': 106, 'Brand': 107, 'AurelionSol': 108, 'Taliyah': 109, 'Malzahar': 110, 'Taric': 111, 'Sona': 112, 'Teemo': 113, 'Mordekaiser': 114, 'Singed': 115, 'Camille': 116, 'Ivern': 117, 'Warwick': 118, 'Shaco': 119, 'Kled': 120, 'Talon': 121, 'Galio': 122, 'Xayah': 123, 'Rakan': 124, 'Kayn': 125, 'Nasus': 126, 'Aatrox': 127, 'Yorick': 128, 'Volibear': 129, 'MonkeyKing': 130, 'Akali': 131, 'Fiddlesticks': 132, 'Heimerdinger': 133, 'Garen': 134, 'Skarner': 135, 'Darius': 136, 'Tryndamere': 137, 'Ornn': 138, 'Zoe': 139}\n",
            "-----------\n",
            "ID TO CHAMPIONS:\n",
            "{0: 'Irelia', 1: 'Ahri', 2: 'RekSai', 3: 'Jinx', 4: 'Janna', 5: 'Gnar', 6: 'Fizz', 7: 'Elise', 8: 'Sivir', 9: 'Thresh', 10: 'Rengar', 11: 'Caitlyn', 12: 'Leona', 13: 'Azir', 14: 'JarvanIV', 15: 'Corki', 16: 'Annie', 17: 'Renekton', 18: 'Sion', 19: 'LeeSin', 20: 'Leblanc', 21: 'Lulu', 22: 'Nunu', 23: 'KogMaw', 24: 'Lissandra', 25: 'Tristana', 26: 'Kassadin', 27: 'Xerath', 28: 'Nami', 29: 'Rumble', 30: 'Blitzcrank', 31: 'Orianna', 32: 'Zed', 33: 'Vi', 34: 'Morgana', 35: 'Nocturne', 36: 'Graves', 37: 'Ezreal', 38: 'Jax', 39: 'Kalista', 40: 'Cassiopeia', 41: 'Maokai', 42: 'Malphite', 43: 'Vayne', 44: 'Nidalee', 45: 'Lucian', 46: 'Alistar', 47: 'Yasuo', 48: 'Draven', 49: 'Braum', 50: 'Swain', 51: 'Veigar', 52: 'DrMundo', 53: 'Syndra', 54: 'Kennen', 55: 'Hecarim', 56: 'Viktor', 57: 'Gragas', 58: 'FiddleSticks', 59: 'Sejuani', 60: 'Karthus', 61: 'Chogath', 62: 'Nautilus', 63: 'Urgot', 64: 'Zac', 65: 'Vladimir', 66: 'Twitch', 67: 'Katarina', 68: 'Varus', 69: 'Diana', 70: 'Ashe', 71: 'Ziggs', 72: 'Evelynn', 73: 'Ryze', 74: 'TwistedFate', 75: 'Bard', 76: 'Ekko', 77: 'Karma', 78: 'XinZhao', 79: 'Jayce', 80: 'Shen', 81: 'Olaf', 82: 'Shyvana', 83: 'MasterYi', 84: 'Khazix', 85: 'Riven', 86: 'Gangplank', 87: 'Soraka', 88: 'Amumu', 89: 'Velkoz', 90: 'MissFortune', 91: 'Anivia', 92: 'Kindred', 93: 'Fiora', 94: 'Trundle', 95: 'Poppy', 96: 'TahmKench', 97: 'Lux', 98: 'Zilean', 99: 'Quinn', 100: 'Jhin', 101: 'Pantheon', 102: 'Kayle', 103: 'Udyr', 104: 'Rammus', 105: 'Zyra', 106: 'Illaoi', 107: 'Brand', 108: 'AurelionSol', 109: 'Taliyah', 110: 'Malzahar', 111: 'Taric', 112: 'Sona', 113: 'Teemo', 114: 'Mordekaiser', 115: 'Singed', 116: 'Camille', 117: 'Ivern', 118: 'Warwick', 119: 'Shaco', 120: 'Kled', 121: 'Talon', 122: 'Galio', 123: 'Xayah', 124: 'Rakan', 125: 'Kayn', 126: 'Nasus', 127: 'Aatrox', 128: 'Yorick', 129: 'Volibear', 130: 'MonkeyKing', 131: 'Akali', 132: 'Fiddlesticks', 133: 'Heimerdinger', 134: 'Garen', 135: 'Skarner', 136: 'Darius', 137: 'Tryndamere', 138: 'Ornn', 139: 'Zoe'}\n",
            "-----------\n"
          ]
        },
        {
          "output_type": "stream",
          "name": "stderr",
          "text": [
            "<ipython-input-8-e80a5561dac8>:8: FutureWarning: Downcasting behavior in `replace` is deprecated and will be removed in a future version. To retain the old behavior, explicitly call `result.infer_objects(copy=False)`. To opt-in to the future behavior, set `pd.set_option('future.no_silent_downcasting', True)`\n",
            "  df_champs_encoded = df_champions.replace(champion_to_id)\n"
          ]
        }
      ]
    },
    {
      "cell_type": "markdown",
      "source": [
        "#Creating Champion Team Representation\n"
      ],
      "metadata": {
        "id": "KWzng3zffefM"
      }
    },
    {
      "cell_type": "markdown",
      "source": [
        "Now that all champions have been parsed into data which can easily work with a machine learning model, the data must be concatenated into a list of champions within a team and used to create an embedding matrix with a vector for all champions.  "
      ],
      "metadata": {
        "id": "EZv3ggifxE2B"
      }
    },
    {
      "cell_type": "markdown",
      "source": [
        "\n",
        "## Create and Fill Team columns"
      ],
      "metadata": {
        "id": "ANFnAIE0w8ri"
      }
    },
    {
      "cell_type": "code",
      "source": [
        "#inserting new columns for red and blue team representation\n",
        "df_champs_encoded.insert(11, 'bTeamRepresentation', value=None)\n",
        "df_champs_encoded.insert(12, 'rTeamRepresentation', value=None)\n",
        "\n",
        "#concatenating all blue and red champion ID's into their respective teams column\n",
        "df_champs_encoded['bTeamRepresentation'] = df_champs_encoded[['blueTopChamp', 'blueMiddleChamp', 'blueJungleChamp', 'blueADCChamp', 'blueSupportChamp']].values.tolist()\n",
        "df_champs_encoded['rTeamRepresentation'] = df_champs_encoded[['redTopChamp', 'redMiddleChamp', 'redJungleChamp', 'redADCChamp', 'redSupportChamp']].values.tolist()\n",
        "\n",
        "#displaying new columns\n",
        "print(df_champs_encoded.head(1))"
      ],
      "metadata": {
        "colab": {
          "base_uri": "https://localhost:8080/"
        },
        "id": "xxEaUQdppRCC",
        "outputId": "53e63a65-6dc4-4081-b502-022e4b9e042f"
      },
      "execution_count": 9,
      "outputs": [
        {
          "output_type": "stream",
          "name": "stdout",
          "text": [
            "   bResult  blueTopChamp  blueMiddleChamp  blueJungleChamp  blueADCChamp  blueSupportChamp  redTopChamp  redMiddleChamp  redJungleChamp  redADCChamp  redSupportChamp bTeamRepresentation  \\\n",
            "0        1             0                1                2             3                 4            5               6               7            8                9     [0, 1, 2, 3, 4]   \n",
            "\n",
            "  rTeamRepresentation  \n",
            "0     [5, 6, 7, 8, 9]  \n"
          ]
        }
      ]
    },
    {
      "cell_type": "markdown",
      "source": [
        "#Create and Aggregate Embeddings"
      ],
      "metadata": {
        "id": "RdPpNx_q5_gJ"
      }
    },
    {
      "cell_type": "markdown",
      "source": [
        "Now that we have an aggregate column of all champion ID's within a team, an embedding layer will be created to represent each categorical data type for a champion as a vector that can be computed and compared by a model. The previous map 'champion_to_id' will be used an as input for the embedding layer.\n",
        "\n",
        "Further to this, embeddings for each team will be created to add a unique vector for collections of champions. This is to help the computer understand the synergies between certain champions and fruther comprehend the relationships of individual champions within a team.  "
      ],
      "metadata": {
        "id": "QEg8kRfR6F6E"
      }
    },
    {
      "cell_type": "code",
      "source": [
        "#creating the embedding layer - 140 champions and a vector dimension of 16\n",
        "embedding_layer = Embedding(input_dim=140, output_dim=16) #Shape: (139 rows (per champion), 16 columnns (Vector Dimension/'richeness'))\n",
        "\n",
        "# Define Input layers\n",
        "bTeam_input = Input(shape=(5,), dtype=tf.int32, name=\"bTeam_input\")  # Shape for blue team input\n",
        "rTeam_input = Input(shape=(5,), dtype=tf.int32, name=\"rTeam_input\")  # Shape for red team input\n",
        "\n",
        "#passing TeamRepresentations through an embedding layer - game length is integer so dont need to do this for that column\n",
        "bTeam_embeddings = embedding_layer(bTeam_input)\n",
        "rTeam_embeddings = embedding_layer(rTeam_input)\n",
        "\n",
        "#aggregating blue team embedding using mean pool average\n",
        "blue_team_representation = Lambda(lambda x: K.mean(x, axis=1))(bTeam_embeddings)\n",
        "\n",
        "#aggregating red team embedding using mean pool average\n",
        "red_team_representation = Lambda(lambda x: K.mean(x, axis=1))(rTeam_embeddings)\n",
        "\n",
        "#combine team respresentations\n",
        "#joining vectors of each team into a 32 dimensional vector\n",
        "combined_representation = Concatenate()([blue_team_representation, red_team_representation])  #Shape (batchsize, 32 (because 16*2))"
      ],
      "metadata": {
        "id": "WvAJKbvXyyXH"
      },
      "execution_count": 10,
      "outputs": []
    },
    {
      "cell_type": "markdown",
      "source": [
        "#Create 3 'Dense' Layers of neural networks\n"
      ],
      "metadata": {
        "id": "Z1LSp2vEAjWJ"
      }
    },
    {
      "cell_type": "markdown",
      "source": [
        "3 layers which filter the representaiton down into a smaller and smaller vector and finally calculate the probalitly betwen 0-1 for a binary classification result"
      ],
      "metadata": {
        "id": "ks7CG-L8BY-z"
      }
    },
    {
      "cell_type": "code",
      "source": [
        "# Dense layers\n",
        "x = Dense(64, activation='relu')(combined_representation)\n",
        "x = Dense(32, activation='relu')(x)\n",
        "output = Dense(1, activation='sigmoid')(x)  # Binary classification"
      ],
      "metadata": {
        "id": "5m2rt-PeAvLn"
      },
      "execution_count": 11,
      "outputs": []
    },
    {
      "cell_type": "markdown",
      "source": [
        "#Create the Model"
      ],
      "metadata": {
        "id": "nUd1CJW-B_6t"
      }
    },
    {
      "cell_type": "markdown",
      "source": [
        "What the Model Does Overall\n",
        "\n",
        "Input:\n",
        "\n",
        "Takes raw champion IDs for both teams.\n",
        "\n",
        "Embedding:\n",
        "\n",
        "Maps each champion ID to a dense vector representation (embedding).\n",
        "\n",
        "Aggregation:\n",
        "\n",
        "Combines the embeddings of all champions on each team into a single vector representing the team.\n",
        "\n",
        "Combination:\n",
        "\n",
        "Concatenates the blue and red team representations into one vector.\n",
        "\n",
        "Dense Layers:\n",
        "\n",
        "Passes the combined representation through a series of dense layers to learn interactions and predict the outcome.\n",
        "\n",
        "Output:\n",
        "\n",
        "Predicts the probability of the blue team winning the match."
      ],
      "metadata": {
        "id": "tf6gXULsEiam"
      }
    },
    {
      "cell_type": "code",
      "source": [
        "# Define the model\n",
        "model = Model(inputs=[bTeam_input, rTeam_input], outputs=output)\n",
        "\n",
        "#creating optimiser to fit into model\n",
        "optimser = Adam(learning_rate=0.01)\n",
        "\n",
        "# Compile the model\n",
        "model.compile(optimizer=optimser, loss='binary_crossentropy', metrics=['accuracy'])\n",
        "\n",
        "# Summary of the model\n",
        "model.summary()"
      ],
      "metadata": {
        "colab": {
          "base_uri": "https://localhost:8080/",
          "height": 476
        },
        "id": "d8pcaLWiCBnI",
        "outputId": "c7ed1afc-bbef-41ba-d47d-b1c158720ddd"
      },
      "execution_count": 12,
      "outputs": [
        {
          "output_type": "display_data",
          "data": {
            "text/plain": [
              "\u001b[1mModel: \"functional\"\u001b[0m\n"
            ],
            "text/html": [
              "<pre style=\"white-space:pre;overflow-x:auto;line-height:normal;font-family:Menlo,'DejaVu Sans Mono',consolas,'Courier New',monospace\"><span style=\"font-weight: bold\">Model: \"functional\"</span>\n",
              "</pre>\n"
            ]
          },
          "metadata": {}
        },
        {
          "output_type": "display_data",
          "data": {
            "text/plain": [
              "┏━━━━━━━━━━━━━━━━━━━━━━━━━━━┳━━━━━━━━━━━━━━━━━━━━━━━━┳━━━━━━━━━━━━━━━━┳━━━━━━━━━━━━━━━━━━━━━━━━┓\n",
              "┃\u001b[1m \u001b[0m\u001b[1mLayer (type)             \u001b[0m\u001b[1m \u001b[0m┃\u001b[1m \u001b[0m\u001b[1mOutput Shape          \u001b[0m\u001b[1m \u001b[0m┃\u001b[1m \u001b[0m\u001b[1m       Param #\u001b[0m\u001b[1m \u001b[0m┃\u001b[1m \u001b[0m\u001b[1mConnected to          \u001b[0m\u001b[1m \u001b[0m┃\n",
              "┡━━━━━━━━━━━━━━━━━━━━━━━━━━━╇━━━━━━━━━━━━━━━━━━━━━━━━╇━━━━━━━━━━━━━━━━╇━━━━━━━━━━━━━━━━━━━━━━━━┩\n",
              "│ bTeam_input (\u001b[38;5;33mInputLayer\u001b[0m)  │ (\u001b[38;5;45mNone\u001b[0m, \u001b[38;5;34m5\u001b[0m)              │              \u001b[38;5;34m0\u001b[0m │ -                      │\n",
              "├───────────────────────────┼────────────────────────┼────────────────┼────────────────────────┤\n",
              "│ rTeam_input (\u001b[38;5;33mInputLayer\u001b[0m)  │ (\u001b[38;5;45mNone\u001b[0m, \u001b[38;5;34m5\u001b[0m)              │              \u001b[38;5;34m0\u001b[0m │ -                      │\n",
              "├───────────────────────────┼────────────────────────┼────────────────┼────────────────────────┤\n",
              "│ embedding (\u001b[38;5;33mEmbedding\u001b[0m)     │ (\u001b[38;5;45mNone\u001b[0m, \u001b[38;5;34m5\u001b[0m, \u001b[38;5;34m16\u001b[0m)          │          \u001b[38;5;34m2,240\u001b[0m │ bTeam_input[\u001b[38;5;34m0\u001b[0m][\u001b[38;5;34m0\u001b[0m],     │\n",
              "│                           │                        │                │ rTeam_input[\u001b[38;5;34m0\u001b[0m][\u001b[38;5;34m0\u001b[0m]      │\n",
              "├───────────────────────────┼────────────────────────┼────────────────┼────────────────────────┤\n",
              "│ lambda (\u001b[38;5;33mLambda\u001b[0m)           │ (\u001b[38;5;45mNone\u001b[0m, \u001b[38;5;34m16\u001b[0m)             │              \u001b[38;5;34m0\u001b[0m │ embedding[\u001b[38;5;34m0\u001b[0m][\u001b[38;5;34m0\u001b[0m]        │\n",
              "├───────────────────────────┼────────────────────────┼────────────────┼────────────────────────┤\n",
              "│ lambda_1 (\u001b[38;5;33mLambda\u001b[0m)         │ (\u001b[38;5;45mNone\u001b[0m, \u001b[38;5;34m16\u001b[0m)             │              \u001b[38;5;34m0\u001b[0m │ embedding[\u001b[38;5;34m1\u001b[0m][\u001b[38;5;34m0\u001b[0m]        │\n",
              "├───────────────────────────┼────────────────────────┼────────────────┼────────────────────────┤\n",
              "│ concatenate (\u001b[38;5;33mConcatenate\u001b[0m) │ (\u001b[38;5;45mNone\u001b[0m, \u001b[38;5;34m32\u001b[0m)             │              \u001b[38;5;34m0\u001b[0m │ lambda[\u001b[38;5;34m0\u001b[0m][\u001b[38;5;34m0\u001b[0m],          │\n",
              "│                           │                        │                │ lambda_1[\u001b[38;5;34m0\u001b[0m][\u001b[38;5;34m0\u001b[0m]         │\n",
              "├───────────────────────────┼────────────────────────┼────────────────┼────────────────────────┤\n",
              "│ dense (\u001b[38;5;33mDense\u001b[0m)             │ (\u001b[38;5;45mNone\u001b[0m, \u001b[38;5;34m64\u001b[0m)             │          \u001b[38;5;34m2,112\u001b[0m │ concatenate[\u001b[38;5;34m0\u001b[0m][\u001b[38;5;34m0\u001b[0m]      │\n",
              "├───────────────────────────┼────────────────────────┼────────────────┼────────────────────────┤\n",
              "│ dense_1 (\u001b[38;5;33mDense\u001b[0m)           │ (\u001b[38;5;45mNone\u001b[0m, \u001b[38;5;34m32\u001b[0m)             │          \u001b[38;5;34m2,080\u001b[0m │ dense[\u001b[38;5;34m0\u001b[0m][\u001b[38;5;34m0\u001b[0m]            │\n",
              "├───────────────────────────┼────────────────────────┼────────────────┼────────────────────────┤\n",
              "│ dense_2 (\u001b[38;5;33mDense\u001b[0m)           │ (\u001b[38;5;45mNone\u001b[0m, \u001b[38;5;34m1\u001b[0m)              │             \u001b[38;5;34m33\u001b[0m │ dense_1[\u001b[38;5;34m0\u001b[0m][\u001b[38;5;34m0\u001b[0m]          │\n",
              "└───────────────────────────┴────────────────────────┴────────────────┴────────────────────────┘\n"
            ],
            "text/html": [
              "<pre style=\"white-space:pre;overflow-x:auto;line-height:normal;font-family:Menlo,'DejaVu Sans Mono',consolas,'Courier New',monospace\">┏━━━━━━━━━━━━━━━━━━━━━━━━━━━┳━━━━━━━━━━━━━━━━━━━━━━━━┳━━━━━━━━━━━━━━━━┳━━━━━━━━━━━━━━━━━━━━━━━━┓\n",
              "┃<span style=\"font-weight: bold\"> Layer (type)              </span>┃<span style=\"font-weight: bold\"> Output Shape           </span>┃<span style=\"font-weight: bold\">        Param # </span>┃<span style=\"font-weight: bold\"> Connected to           </span>┃\n",
              "┡━━━━━━━━━━━━━━━━━━━━━━━━━━━╇━━━━━━━━━━━━━━━━━━━━━━━━╇━━━━━━━━━━━━━━━━╇━━━━━━━━━━━━━━━━━━━━━━━━┩\n",
              "│ bTeam_input (<span style=\"color: #0087ff; text-decoration-color: #0087ff\">InputLayer</span>)  │ (<span style=\"color: #00d7ff; text-decoration-color: #00d7ff\">None</span>, <span style=\"color: #00af00; text-decoration-color: #00af00\">5</span>)              │              <span style=\"color: #00af00; text-decoration-color: #00af00\">0</span> │ -                      │\n",
              "├───────────────────────────┼────────────────────────┼────────────────┼────────────────────────┤\n",
              "│ rTeam_input (<span style=\"color: #0087ff; text-decoration-color: #0087ff\">InputLayer</span>)  │ (<span style=\"color: #00d7ff; text-decoration-color: #00d7ff\">None</span>, <span style=\"color: #00af00; text-decoration-color: #00af00\">5</span>)              │              <span style=\"color: #00af00; text-decoration-color: #00af00\">0</span> │ -                      │\n",
              "├───────────────────────────┼────────────────────────┼────────────────┼────────────────────────┤\n",
              "│ embedding (<span style=\"color: #0087ff; text-decoration-color: #0087ff\">Embedding</span>)     │ (<span style=\"color: #00d7ff; text-decoration-color: #00d7ff\">None</span>, <span style=\"color: #00af00; text-decoration-color: #00af00\">5</span>, <span style=\"color: #00af00; text-decoration-color: #00af00\">16</span>)          │          <span style=\"color: #00af00; text-decoration-color: #00af00\">2,240</span> │ bTeam_input[<span style=\"color: #00af00; text-decoration-color: #00af00\">0</span>][<span style=\"color: #00af00; text-decoration-color: #00af00\">0</span>],     │\n",
              "│                           │                        │                │ rTeam_input[<span style=\"color: #00af00; text-decoration-color: #00af00\">0</span>][<span style=\"color: #00af00; text-decoration-color: #00af00\">0</span>]      │\n",
              "├───────────────────────────┼────────────────────────┼────────────────┼────────────────────────┤\n",
              "│ lambda (<span style=\"color: #0087ff; text-decoration-color: #0087ff\">Lambda</span>)           │ (<span style=\"color: #00d7ff; text-decoration-color: #00d7ff\">None</span>, <span style=\"color: #00af00; text-decoration-color: #00af00\">16</span>)             │              <span style=\"color: #00af00; text-decoration-color: #00af00\">0</span> │ embedding[<span style=\"color: #00af00; text-decoration-color: #00af00\">0</span>][<span style=\"color: #00af00; text-decoration-color: #00af00\">0</span>]        │\n",
              "├───────────────────────────┼────────────────────────┼────────────────┼────────────────────────┤\n",
              "│ lambda_1 (<span style=\"color: #0087ff; text-decoration-color: #0087ff\">Lambda</span>)         │ (<span style=\"color: #00d7ff; text-decoration-color: #00d7ff\">None</span>, <span style=\"color: #00af00; text-decoration-color: #00af00\">16</span>)             │              <span style=\"color: #00af00; text-decoration-color: #00af00\">0</span> │ embedding[<span style=\"color: #00af00; text-decoration-color: #00af00\">1</span>][<span style=\"color: #00af00; text-decoration-color: #00af00\">0</span>]        │\n",
              "├───────────────────────────┼────────────────────────┼────────────────┼────────────────────────┤\n",
              "│ concatenate (<span style=\"color: #0087ff; text-decoration-color: #0087ff\">Concatenate</span>) │ (<span style=\"color: #00d7ff; text-decoration-color: #00d7ff\">None</span>, <span style=\"color: #00af00; text-decoration-color: #00af00\">32</span>)             │              <span style=\"color: #00af00; text-decoration-color: #00af00\">0</span> │ lambda[<span style=\"color: #00af00; text-decoration-color: #00af00\">0</span>][<span style=\"color: #00af00; text-decoration-color: #00af00\">0</span>],          │\n",
              "│                           │                        │                │ lambda_1[<span style=\"color: #00af00; text-decoration-color: #00af00\">0</span>][<span style=\"color: #00af00; text-decoration-color: #00af00\">0</span>]         │\n",
              "├───────────────────────────┼────────────────────────┼────────────────┼────────────────────────┤\n",
              "│ dense (<span style=\"color: #0087ff; text-decoration-color: #0087ff\">Dense</span>)             │ (<span style=\"color: #00d7ff; text-decoration-color: #00d7ff\">None</span>, <span style=\"color: #00af00; text-decoration-color: #00af00\">64</span>)             │          <span style=\"color: #00af00; text-decoration-color: #00af00\">2,112</span> │ concatenate[<span style=\"color: #00af00; text-decoration-color: #00af00\">0</span>][<span style=\"color: #00af00; text-decoration-color: #00af00\">0</span>]      │\n",
              "├───────────────────────────┼────────────────────────┼────────────────┼────────────────────────┤\n",
              "│ dense_1 (<span style=\"color: #0087ff; text-decoration-color: #0087ff\">Dense</span>)           │ (<span style=\"color: #00d7ff; text-decoration-color: #00d7ff\">None</span>, <span style=\"color: #00af00; text-decoration-color: #00af00\">32</span>)             │          <span style=\"color: #00af00; text-decoration-color: #00af00\">2,080</span> │ dense[<span style=\"color: #00af00; text-decoration-color: #00af00\">0</span>][<span style=\"color: #00af00; text-decoration-color: #00af00\">0</span>]            │\n",
              "├───────────────────────────┼────────────────────────┼────────────────┼────────────────────────┤\n",
              "│ dense_2 (<span style=\"color: #0087ff; text-decoration-color: #0087ff\">Dense</span>)           │ (<span style=\"color: #00d7ff; text-decoration-color: #00d7ff\">None</span>, <span style=\"color: #00af00; text-decoration-color: #00af00\">1</span>)              │             <span style=\"color: #00af00; text-decoration-color: #00af00\">33</span> │ dense_1[<span style=\"color: #00af00; text-decoration-color: #00af00\">0</span>][<span style=\"color: #00af00; text-decoration-color: #00af00\">0</span>]          │\n",
              "└───────────────────────────┴────────────────────────┴────────────────┴────────────────────────┘\n",
              "</pre>\n"
            ]
          },
          "metadata": {}
        },
        {
          "output_type": "display_data",
          "data": {
            "text/plain": [
              "\u001b[1m Total params: \u001b[0m\u001b[38;5;34m6,465\u001b[0m (25.25 KB)\n"
            ],
            "text/html": [
              "<pre style=\"white-space:pre;overflow-x:auto;line-height:normal;font-family:Menlo,'DejaVu Sans Mono',consolas,'Courier New',monospace\"><span style=\"font-weight: bold\"> Total params: </span><span style=\"color: #00af00; text-decoration-color: #00af00\">6,465</span> (25.25 KB)\n",
              "</pre>\n"
            ]
          },
          "metadata": {}
        },
        {
          "output_type": "display_data",
          "data": {
            "text/plain": [
              "\u001b[1m Trainable params: \u001b[0m\u001b[38;5;34m6,465\u001b[0m (25.25 KB)\n"
            ],
            "text/html": [
              "<pre style=\"white-space:pre;overflow-x:auto;line-height:normal;font-family:Menlo,'DejaVu Sans Mono',consolas,'Courier New',monospace\"><span style=\"font-weight: bold\"> Trainable params: </span><span style=\"color: #00af00; text-decoration-color: #00af00\">6,465</span> (25.25 KB)\n",
              "</pre>\n"
            ]
          },
          "metadata": {}
        },
        {
          "output_type": "display_data",
          "data": {
            "text/plain": [
              "\u001b[1m Non-trainable params: \u001b[0m\u001b[38;5;34m0\u001b[0m (0.00 B)\n"
            ],
            "text/html": [
              "<pre style=\"white-space:pre;overflow-x:auto;line-height:normal;font-family:Menlo,'DejaVu Sans Mono',consolas,'Courier New',monospace\"><span style=\"font-weight: bold\"> Non-trainable params: </span><span style=\"color: #00af00; text-decoration-color: #00af00\">0</span> (0.00 B)\n",
              "</pre>\n"
            ]
          },
          "metadata": {}
        }
      ]
    },
    {
      "cell_type": "markdown",
      "source": [
        "#Training the Model"
      ],
      "metadata": {
        "id": "PQNHW0RIEtBz"
      }
    },
    {
      "cell_type": "markdown",
      "source": [
        "##Test Train Split"
      ],
      "metadata": {
        "id": "MeIqOsSKEw9A"
      }
    },
    {
      "cell_type": "code",
      "source": [
        "#team data\n",
        "B = df_champs_encoded['bTeamRepresentation'].to_numpy()\n",
        "R = df_champs_encoded['rTeamRepresentation'].to_numpy()\n",
        "\n",
        "#results data\n",
        "Y = df_champs_encoded['bResult'].to_numpy()\n",
        "\n",
        "#Splitting the wine data into training and testing sets (80% train, 20% test) - adding a random state value incase we want to reproduce the test\n",
        "b_train, b_test, r_train, r_test, y_train, y_test = train_test_split(B, R, Y, test_size=0.2, random_state=0)\n",
        "\n",
        "print(\"Training blue team data:\", len(b_train))\n",
        "print(\"Testing blue team data:\", len(b_test))\n",
        "print(\"--------------------------------------\")\n",
        "print(\"Training red team data:\", len(r_train))\n",
        "print(\"Testing red team data:\", len(r_test))\n",
        "print(\"--------------------------------------\")\n",
        "print(\"Training results data:\", len(y_train))\n",
        "print(\"Testing results data:\", len(y_test))"
      ],
      "metadata": {
        "colab": {
          "base_uri": "https://localhost:8080/"
        },
        "id": "csKlBRiVE5bZ",
        "outputId": "fc2b1243-1f47-42f0-d86d-3e1f483f5e9c"
      },
      "execution_count": 13,
      "outputs": [
        {
          "output_type": "stream",
          "name": "stdout",
          "text": [
            "Training blue team data: 6096\n",
            "Testing blue team data: 1524\n",
            "--------------------------------------\n",
            "Training red team data: 6096\n",
            "Testing red team data: 1524\n",
            "--------------------------------------\n",
            "Training results data: 6096\n",
            "Testing results data: 1524\n"
          ]
        }
      ]
    },
    {
      "cell_type": "markdown",
      "source": [
        "##Fitting Data into The Model"
      ],
      "metadata": {
        "id": "7bIi8Br7HB_w"
      }
    },
    {
      "cell_type": "code",
      "source": [
        "model.fit(\n",
        "    [tf.constant(b_train.tolist()), tf.constant(r_train.tolist())],  #Inputs\n",
        "    tf.constant(y_train.tolist()),  #Labels\n",
        "    epochs=5,\n",
        "    batch_size=32\n",
        ")\n"
      ],
      "metadata": {
        "colab": {
          "base_uri": "https://localhost:8080/"
        },
        "id": "loFh6SPqHGs6",
        "outputId": "72bd913b-8674-4261-d089-7bbd13066cb6"
      },
      "execution_count": 14,
      "outputs": [
        {
          "output_type": "stream",
          "name": "stdout",
          "text": [
            "Epoch 1/5\n",
            "\u001b[1m191/191\u001b[0m \u001b[32m━━━━━━━━━━━━━━━━━━━━\u001b[0m\u001b[37m\u001b[0m \u001b[1m2s\u001b[0m 2ms/step - accuracy: 0.5476 - loss: 0.6906\n",
            "Epoch 2/5\n",
            "\u001b[1m191/191\u001b[0m \u001b[32m━━━━━━━━━━━━━━━━━━━━\u001b[0m\u001b[37m\u001b[0m \u001b[1m0s\u001b[0m 2ms/step - accuracy: 0.5520 - loss: 0.6849\n",
            "Epoch 3/5\n",
            "\u001b[1m191/191\u001b[0m \u001b[32m━━━━━━━━━━━━━━━━━━━━\u001b[0m\u001b[37m\u001b[0m \u001b[1m1s\u001b[0m 3ms/step - accuracy: 0.5797 - loss: 0.6778\n",
            "Epoch 4/5\n",
            "\u001b[1m191/191\u001b[0m \u001b[32m━━━━━━━━━━━━━━━━━━━━\u001b[0m\u001b[37m\u001b[0m \u001b[1m1s\u001b[0m 3ms/step - accuracy: 0.5766 - loss: 0.6698\n",
            "Epoch 5/5\n",
            "\u001b[1m191/191\u001b[0m \u001b[32m━━━━━━━━━━━━━━━━━━━━\u001b[0m\u001b[37m\u001b[0m \u001b[1m1s\u001b[0m 3ms/step - accuracy: 0.5980 - loss: 0.6625\n"
          ]
        },
        {
          "output_type": "execute_result",
          "data": {
            "text/plain": [
              "<keras.src.callbacks.history.History at 0x7dc3b4978b50>"
            ]
          },
          "metadata": {},
          "execution_count": 14
        }
      ]
    },
    {
      "cell_type": "markdown",
      "source": [
        "#Test The Model"
      ],
      "metadata": {
        "id": "oG5rEgu0P4Lc"
      }
    },
    {
      "cell_type": "code",
      "source": [
        "# Evaluate the model\n",
        "b_test, r_test, y_test = tf.constant(b_test.tolist()), tf.constant(r_test.tolist()), tf.constant(y_test.tolist())\n",
        "\n",
        "test_loss, test_accuracy = model.evaluate([b_test, r_test], y_test, batch_size=32)\n",
        "\n",
        "print(f\"Test Loss: {test_loss}, Test Accuracy: {test_accuracy}\")\n",
        "\n",
        "#accuracy: 0.5356 - loss: 0.6897 epochs 5 adam \"\"\n",
        "#accuracy: 0.5714 - loss: 0.6786 epochs 5 adam\n",
        "#accuracy: 0.5667 - loss: 0.6827 - epochs 5 adam 0.01\n",
        "#accuracy: 0.5194 - loss: 0.7116 - epochs 10 adam 0.01\n",
        "#accuracy: 0.5502 - loss: 0.6895 - epochs 5 adam 0.015\n",
        "#accuracy: 0.5671 - loss: 0.6985 - epochs 5 adam 0.01\n",
        "#accuracy: 0.5695 - loss: 0.6839 - epoch 5 adamW 0.001 weight decay 1e-5\n",
        "#accuracy: 0.5252 - loss: 0.6974 - epoch 5 adamW 0.001 weight decay 1e-6\n",
        "#accuracy: 0.5657 - loss: 0.6796 - epoch 5 adamW 0.001 weight decay 1e-4\n",
        "#accuracy: 0.5647 - loss: 0.6829 - epochs 5 adam 0.01 batch decrease to 16\n",
        "\n",
        "#BEST SO FAR\n",
        "#accuracy: 0.5878 - loss: 0.6921 - epochs 5, adam 0.01 batch size 32\n",
        "\n",
        "\n",
        "#improving the models accuracy - keeping epochs between 5-10 to not overfit\n",
        "#increased learning rate from 0.001 to 0.01\n"
      ],
      "metadata": {
        "colab": {
          "base_uri": "https://localhost:8080/"
        },
        "id": "ldZ9UbDXP3lS",
        "outputId": "38df5395-5425-4a7a-f96b-6f0318e58cc6"
      },
      "execution_count": 15,
      "outputs": [
        {
          "output_type": "stream",
          "name": "stdout",
          "text": [
            "\u001b[1m48/48\u001b[0m \u001b[32m━━━━━━━━━━━━━━━━━━━━\u001b[0m\u001b[37m\u001b[0m \u001b[1m0s\u001b[0m 3ms/step - accuracy: 0.5647 - loss: 0.6850\n",
            "Test Loss: 0.6871154308319092, Test Accuracy: 0.5682414770126343\n"
          ]
        }
      ]
    }
  ]
}